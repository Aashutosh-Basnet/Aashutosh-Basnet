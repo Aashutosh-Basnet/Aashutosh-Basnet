{
  "nbformat": 4,
  "nbformat_minor": 0,
  "metadata": {
    "colab": {
      "provenance": [],
      "authorship_tag": "ABX9TyP9dgqYzpHnH4vK+o61WdG9",
      "include_colab_link": true
    },
    "kernelspec": {
      "name": "python3",
      "display_name": "Python 3"
    },
    "language_info": {
      "name": "python"
    }
  },
  "cells": [
    {
      "cell_type": "markdown",
      "metadata": {
        "id": "view-in-github",
        "colab_type": "text"
      },
      "source": [
        "<a href=\"https://colab.research.google.com/github/Aashutosh-Basnet/Aashutosh-Basnet/blob/main/nn_iris.ipynb\" target=\"_parent\"><img src=\"https://colab.research.google.com/assets/colab-badge.svg\" alt=\"Open In Colab\"/></a>"
      ]
    },
    {
      "cell_type": "code",
      "execution_count": 17,
      "metadata": {
        "id": "T4r9U21SMKDB"
      },
      "outputs": [],
      "source": [
        "import pandas as pd\n",
        "import numpy as np\n",
        "from sklearn.preprocessing import StandardScaler, OneHotEncoder\n",
        "from sklearn.datasets import load_iris\n",
        "from sklearn.model_selection import train_test_split\n"
      ]
    },
    {
      "cell_type": "code",
      "source": [
        "iris = load_iris()\n",
        "X = iris.data\n",
        "y = iris.target"
      ],
      "metadata": {
        "id": "yltCNfUUMpmb"
      },
      "execution_count": 18,
      "outputs": []
    },
    {
      "cell_type": "code",
      "source": [
        "encoder = OneHotEncoder()\n",
        "y_encoded = encoder.fit_transform(y.reshape(-1, 1)).toarray()"
      ],
      "metadata": {
        "id": "J-vU4itMM0rL"
      },
      "execution_count": 19,
      "outputs": []
    },
    {
      "cell_type": "code",
      "source": [
        "scaler = StandardScaler()\n",
        "X_scaled = scaler.fit_transform(X)"
      ],
      "metadata": {
        "id": "BrO45jGsNIJP"
      },
      "execution_count": 20,
      "outputs": []
    },
    {
      "cell_type": "code",
      "source": [
        "X_train, X_test, y_train, y_test = train_test_split(X_scaled, y_encoded, test_size=0.2, random_state=42)"
      ],
      "metadata": {
        "id": "KObtTqW1NVZy"
      },
      "execution_count": 21,
      "outputs": []
    },
    {
      "cell_type": "code",
      "source": [
        "print(X_train.shape)\n",
        "print(X_test.shape)\n",
        "print(y_train.shape)\n",
        "print(y_test.shape)"
      ],
      "metadata": {
        "colab": {
          "base_uri": "https://localhost:8080/"
        },
        "id": "ZMweHXNZNakp",
        "outputId": "b381ce31-292c-48d3-b92c-cf2233f1a80a"
      },
      "execution_count": 22,
      "outputs": [
        {
          "output_type": "stream",
          "name": "stdout",
          "text": [
            "(120, 4)\n",
            "(30, 4)\n",
            "(120, 3)\n",
            "(30, 3)\n"
          ]
        }
      ]
    },
    {
      "cell_type": "code",
      "source": [
        "input_neurons = X_train.shape[1]\n",
        "hidden_neurons = 8\n",
        "output_neurons = y_train.shape[1]"
      ],
      "metadata": {
        "id": "YmaHgPiONhep"
      },
      "execution_count": 23,
      "outputs": []
    },
    {
      "cell_type": "code",
      "source": [
        "np.random.seed(42)\n",
        "W1 = np.random.rand(input_neurons, hidden_neurons) - 0.5\n",
        "b1 = (np.random.rand(hidden_neurons) - 0.5).reshape(-1)\n",
        "W2 = np.random.rand(hidden_neurons, output_neurons) - 0.5\n",
        "b2 = (np.random.rand(output_neurons) - 0.5).reshape(-1)"
      ],
      "metadata": {
        "id": "J3__TbVsNsEc"
      },
      "execution_count": 24,
      "outputs": []
    },
    {
      "cell_type": "code",
      "source": [
        "def relu(x):\n",
        "  return np.maximum(0, x)\n",
        "\n",
        "def relu_derivative(x):\n",
        "  return np.where(x > 0, 1, 0)\n",
        "\n",
        "def softmax(x):\n",
        "    exp_x = np.exp(x - np.max(x, axis=1).reshape(-1, 1))\n",
        "    return exp_x / np.sum(exp_x, axis=1).reshape(-1, 1)"
      ],
      "metadata": {
        "id": "FtKd3XfzS9sq"
      },
      "execution_count": 25,
      "outputs": []
    },
    {
      "cell_type": "code",
      "source": [
        "# Forward propagation\n",
        "def forward_propagation(X):\n",
        "    # Hidden layer\n",
        "    Z1 = np.dot(X, W1) + b1\n",
        "    A1 = relu(Z1)\n",
        "    # Output layer\n",
        "    Z2 = np.dot(A1, W2) + b2\n",
        "    A2 = softmax(Z2)\n",
        "    return Z1, A1, Z2, A2\n",
        "\n",
        "# Backward propagation\n",
        "def backward_propagation(X, y, Z1, A1, Z2, A2, learning_rate=0.01):\n",
        "    global W1, b1, W2, b2\n",
        "\n",
        "    # Output layer error\n",
        "    dZ2 = A2 - y\n",
        "    dW2 = np.dot(A1.T, dZ2) / X.shape[0]\n",
        "    db2 = np.sum(dZ2, axis=0) / X.shape[0]\n",
        "\n",
        "    # Hidden layer error\n",
        "    dA1 = np.dot(dZ2, W2.T)\n",
        "    dZ1 = dA1 * relu_derivative(Z1)\n",
        "    dW1 = np.dot(X.T, dZ1) / X.shape[0]\n",
        "    db1 = np.sum(dZ1, axis=0) / X.shape[0]\n",
        "\n",
        "    # Update weights and biases\n",
        "    W1 -= learning_rate * dW1\n",
        "    b1 -= learning_rate * db1\n",
        "    W2 -= learning_rate * dW2\n",
        "    b2 -= learning_rate * db2"
      ],
      "metadata": {
        "id": "Sl7SSAnCUrDR"
      },
      "execution_count": 26,
      "outputs": []
    },
    {
      "cell_type": "code",
      "source": [
        "# Training parameters\n",
        "epochs = 1000\n",
        "learning_rate = 0.01\n",
        "\n",
        "# Training loop\n",
        "for epoch in range(epochs):\n",
        "    # Forward propagation\n",
        "    Z1, A1, Z2, A2 = forward_propagation(X_train)\n",
        "\n",
        "    # Backward propagation\n",
        "    backward_propagation(X_train, y_train, Z1, A1, Z2, A2, learning_rate)\n",
        "\n",
        "    # Compute loss (cross-entropy)\n",
        "    loss = -np.mean(np.sum(y_train * np.log(A2 + 1e-8), axis=1))\n",
        "\n",
        "    if epoch % 100 == 0:\n",
        "        print(f\"Epoch {epoch}, Loss: {loss:.4f}\")\n",
        "\n",
        "# Test the model\n",
        "_, _, _, A2_test = forward_propagation(X_test)\n",
        "y_pred = np.argmax(A2_test, axis=1)\n",
        "y_true = np.argmax(y_test, axis=1)\n",
        "\n",
        "# Compute accuracy\n",
        "accuracy = np.mean(y_pred == y_true)\n",
        "print(f\"Test Accuracy: {accuracy:.2f}\")\n"
      ],
      "metadata": {
        "colab": {
          "base_uri": "https://localhost:8080/"
        },
        "id": "suPha6KqU7KJ",
        "outputId": "823fc2ec-021d-4fbd-8733-b78d7ad61eb3"
      },
      "execution_count": 27,
      "outputs": [
        {
          "output_type": "stream",
          "name": "stdout",
          "text": [
            "Epoch 0, Loss: 1.1374\n",
            "Epoch 100, Loss: 0.7133\n",
            "Epoch 200, Loss: 0.5508\n",
            "Epoch 300, Loss: 0.4664\n",
            "Epoch 400, Loss: 0.4164\n",
            "Epoch 500, Loss: 0.3832\n",
            "Epoch 600, Loss: 0.3587\n",
            "Epoch 700, Loss: 0.3385\n",
            "Epoch 800, Loss: 0.3209\n",
            "Epoch 900, Loss: 0.3049\n",
            "Test Accuracy: 0.97\n"
          ]
        }
      ]
    },
    {
      "cell_type": "code",
      "source": [],
      "metadata": {
        "id": "E4YXZcKVVAdq"
      },
      "execution_count": 27,
      "outputs": []
    }
  ]
}